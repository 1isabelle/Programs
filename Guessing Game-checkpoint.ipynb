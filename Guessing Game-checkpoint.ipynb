{
 "cells": [
  {
   "cell_type": "code",
   "execution_count": null,
   "metadata": {},
   "outputs": [],
   "source": [
    "import random\n",
    "numb=random.randint(1,100)\n",
    "print(numb)"
   ]
  },
  {
   "cell_type": "code",
   "execution_count": null,
   "metadata": {},
   "outputs": [],
   "source": [
    "print('guess a number!')\n",
    "while True:\n",
    "    guess = int(input('from 1 to 100\\n'))\n",
    "    if  guess>100 or guess<1:\n",
    "        print('out of bound')\n",
    "        continue\n",
    "    break"
   ]
  },
  {
   "cell_type": "code",
   "execution_count": null,
   "metadata": {},
   "outputs": [],
   "source": [
    "while True:\n",
    "    guesses=[0]\n",
    "    guess=int(input('guess a number'))\n",
    "    if  guess>100 or guess<1:\n",
    "        print('out of bound')\n",
    "        continue\n",
    "    if guess==numb:\n",
    "        print(\"you done did it hell yah u right\")\n",
    "        break\n",
    "\n",
    "    guesses.append(guess)\n",
    "    if guesses[-2]:\n",
    "        if abs(numb-guesses[-1])>abs(numb-guess[-2]):\n",
    "            print('colder')\n",
    "        else:\n",
    "            print('warmer')\n",
    "            \n"
   ]
  },
  {
   "cell_type": "code",
   "execution_count": null,
   "metadata": {},
   "outputs": [],
   "source": []
  },
  {
   "cell_type": "code",
   "execution_count": null,
   "metadata": {},
   "outputs": [],
   "source": []
  },
  {
   "cell_type": "code",
   "execution_count": null,
   "metadata": {},
   "outputs": [],
   "source": []
  }
 ],
 "metadata": {
  "kernelspec": {
   "display_name": "Python 3",
   "language": "python",
   "name": "python3"
  },
  "language_info": {
   "codemirror_mode": {
    "name": "ipython",
    "version": 3
   },
   "file_extension": ".py",
   "mimetype": "text/x-python",
   "name": "python",
   "nbconvert_exporter": "python",
   "pygments_lexer": "ipython3",
   "version": "3.7.3"
  }
 },
 "nbformat": 4,
 "nbformat_minor": 2
}
